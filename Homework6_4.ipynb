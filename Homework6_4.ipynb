{
  "nbformat": 4,
  "nbformat_minor": 0,
  "metadata": {
    "colab": {
      "provenance": [],
      "authorship_tag": "ABX9TyPtkQVFIft55Qpq8e8qSsiu",
      "include_colab_link": true
    },
    "kernelspec": {
      "name": "python3",
      "display_name": "Python 3"
    },
    "language_info": {
      "name": "python"
    }
  },
  "cells": [
    {
      "cell_type": "markdown",
      "metadata": {
        "id": "view-in-github",
        "colab_type": "text"
      },
      "source": [
        "<a href=\"https://colab.research.google.com/github/liangliang6v6/GraphCondensation/blob/main/Homework6_4.ipynb\" target=\"_parent\"><img src=\"https://colab.research.google.com/assets/colab-badge.svg\" alt=\"Open In Colab\"/></a>"
      ]
    },
    {
      "cell_type": "code",
      "execution_count": null,
      "metadata": {
        "id": "GC-ewKLACsCq"
      },
      "outputs": [],
      "source": []
    },
    {
      "cell_type": "markdown",
      "source": [
        "###Task 4(100 points):\n",
        "Implement the game of tic-tac-toe (write a class that implements an agent\n",
        "playing Tic Tac Toe and learning its Q function) using the Q-learning technique (see the\n",
        "resources/links provided in class for more details). Clearly describe your evaluation metric and\n",
        "demonstrate a few runs. You might need to use some online resources to proceed with this. Do\n",
        "not forget to cite those."
      ],
      "metadata": {
        "id": "HQdCN36cDsN1"
      }
    }
  ]
}